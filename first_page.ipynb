{
 "cells": [
  {
   "cell_type": "code",
   "execution_count": 1,
   "id": "dc591d37",
   "metadata": {},
   "outputs": [],
   "source": [
    "import cv2\n",
    "import numpy as np\n",
    "import matplotlib.pyplot as plt"
   ]
  },
  {
   "cell_type": "code",
   "execution_count": 2,
   "id": "b2ff5093",
   "metadata": {
    "scrolled": true
   },
   "outputs": [
    {
     "data": {
      "text/plain": [
       "(183, 275, 3)"
      ]
     },
     "execution_count": 2,
     "metadata": {},
     "output_type": "execute_result"
    }
   ],
   "source": [
    "img=cv2.imread(r'C:\\Users\\tusha\\OneDrive\\Desktop\\ml lab\\faces.jpeg')\n",
    "img.shape"
   ]
  },
  {
   "cell_type": "code",
   "execution_count": 3,
   "id": "3803b36c",
   "metadata": {},
   "outputs": [],
   "source": [
    "while True:\n",
    "   cv2.imshow('result',img)\n",
    "   #27 - ASCII of Escape\n",
    "   if cv2.waitKey (2) == 27: break\n",
    "cv2.destroyAllWindows()"
   ]
  },
  {
   "cell_type": "code",
   "execution_count": 4,
   "id": "d138b137",
   "metadata": {},
   "outputs": [
    {
     "name": "stdout",
     "output_type": "stream",
     "text": [
      "[[108 111  61  61]\n",
      " [ 13  18  62  62]\n",
      " [ 12 108  66  66]\n",
      " [195  16  66  66]\n",
      " [196 110  64  64]\n",
      " [103  16  67  67]]\n"
     ]
    }
   ],
   "source": [
    "haar_data=cv2.CascadeClassifier(r'C:\\Users\\tusha\\OneDrive\\Desktop\\ml lab\\data.xml')\n",
    "haar_data.detectMultiScale(img)\n",
    "faces=haar_data.detectMultiScale (img) \n",
    "print(faces)\n",
    "for x,y,w,h in faces: \n",
    "    cv2.rectangle(img, (x,y), (x+w, y+h), (255,0, 255), 4) \n",
    "while True:\n",
    "   cv2.imshow('result',img)\n",
    "   #27 - ASCII of Escape\n",
    "   if cv2.waitKey (2) == 27: break\n",
    "cv2.destroyAllWindows()"
   ]
  },
  {
   "cell_type": "code",
   "execution_count": 5,
   "id": "cccd6210",
   "metadata": {},
   "outputs": [
    {
     "name": "stdout",
     "output_type": "stream",
     "text": [
      "True\n",
      "0\n",
      "True\n",
      "True\n",
      "True\n",
      "True\n",
      "True\n",
      "True\n",
      "True\n",
      "True\n",
      "True\n",
      "True\n",
      "1\n",
      "True\n",
      "2\n",
      "True\n",
      "3\n",
      "True\n",
      "4\n",
      "True\n",
      "5\n",
      "True\n",
      "6\n",
      "True\n",
      "7\n",
      "True\n",
      "8\n",
      "True\n",
      "9\n",
      "True\n",
      "10\n",
      "True\n",
      "11\n",
      "True\n",
      "12\n",
      "True\n",
      "13\n",
      "True\n",
      "14\n",
      "True\n",
      "15\n",
      "True\n",
      "16\n",
      "True\n",
      "17\n",
      "True\n",
      "18\n",
      "True\n",
      "19\n",
      "True\n",
      "20\n",
      "True\n",
      "21\n",
      "True\n",
      "22\n",
      "True\n",
      "23\n",
      "True\n",
      "24\n",
      "True\n",
      "25\n",
      "True\n",
      "26\n",
      "True\n",
      "True\n",
      "27\n",
      "True\n",
      "28\n",
      "True\n",
      "29\n",
      "30\n",
      "True\n",
      "31\n",
      "32\n",
      "True\n",
      "33\n",
      "34\n",
      "True\n",
      "35\n",
      "True\n",
      "36\n",
      "True\n",
      "37\n",
      "38\n",
      "True\n",
      "39\n",
      "True\n",
      "40\n",
      "True\n",
      "41\n",
      "True\n",
      "42\n",
      "True\n",
      "43\n",
      "True\n",
      "44\n",
      "True\n",
      "45\n",
      "True\n",
      "46\n",
      "True\n",
      "47\n",
      "True\n",
      "48\n",
      "True\n",
      "49\n",
      "True\n",
      "50\n",
      "True\n",
      "51\n",
      "True\n",
      "52\n",
      "53\n",
      "True\n",
      "54\n",
      "True\n",
      "55\n",
      "True\n",
      "56\n",
      "True\n",
      "57\n",
      "True\n",
      "58\n",
      "True\n",
      "59\n",
      "True\n",
      "60\n",
      "True\n",
      "61\n",
      "True\n",
      "62\n",
      "True\n",
      "63\n",
      "True\n",
      "64\n",
      "True\n",
      "65\n",
      "True\n",
      "66\n",
      "True\n",
      "67\n",
      "True\n",
      "True\n",
      "True\n",
      "True\n",
      "68\n",
      "True\n",
      "69\n",
      "True\n",
      "70\n",
      "True\n",
      "71\n",
      "True\n",
      "72\n",
      "True\n",
      "73\n",
      "True\n",
      "74\n",
      "True\n",
      "75\n",
      "True\n",
      "76\n",
      "True\n",
      "77\n"
     ]
    }
   ],
   "source": [
    "capture = cv2.VideoCapture (0) # to initialize camera \n",
    "data= [] # to store face data\n",
    "while True:\n",
    "    flag, img = capture.read() \n",
    "    print(flag)\n",
    "    if flag: \n",
    "          faces=haar_data.detectMultiScale (img) \n",
    "          for x,y,w,h in faces: \n",
    "               cv2.rectangle(img, (x,y), (x+w, y+h), (255,0, 255), 4) \n",
    "               face=img [y:y+h, x:x+w, :] # slicing only face from the frame\n",
    "               face = cv2.resize(face, (50, 50)) # resizing all faces to 50 x 50, so that all images will be of same size \n",
    "               print (len (data))\n",
    "               if len(data) < 200: # condition for only storing 200 images \n",
    "                  data.append(face) # storing face data\n",
    "          cv2.imshow('result',img) # to show the window\n",
    "# 27 ASCII of Escape\n",
    "          if cv2.waitKey (10) == 27 or len(data) >= 200: # break Loop if escaped is pressed or 200 faces are stored \n",
    "               break\n",
    "capture.release() # release the camera object holded by openCV \n",
    "cv2.destroyAllWindows() # close all the windows opened by openCV"
   ]
  },
  {
   "cell_type": "code",
   "execution_count": 29,
   "id": "5a3afedf",
   "metadata": {},
   "outputs": [],
   "source": [
    "np.save('without_mumi_mask.npy',data)\n"
   ]
  },
  {
   "cell_type": "code",
   "execution_count": 30,
   "id": "63e012e6",
   "metadata": {},
   "outputs": [],
   "source": [
    "np.save('with_mumi_mask.npy',data)"
   ]
  },
  {
   "cell_type": "code",
   "execution_count": 22,
   "id": "ea6a888e",
   "metadata": {},
   "outputs": [
    {
     "data": {
      "text/plain": [
       "<matplotlib.image.AxesImage at 0x20991cfe770>"
      ]
     },
     "execution_count": 22,
     "metadata": {},
     "output_type": "execute_result"
    },
    {
     "data": {
      "image/png": "[encoded data removed]",
      "text/plain": [
       "<Figure size 432x288 with 1 Axes>"
      ]
     },
     "metadata": {
      "needs_background": "light"
     },
     "output_type": "display_data"
    }
   ],
   "source": [
    "\n",
    "plt.imshow(data[1])"
   ]
  },
  {
   "cell_type": "code",
   "execution_count": null,
   "id": "c038d0fb",
   "metadata": {},
   "outputs": [],
   "source": []
  }
 ],
 "metadata": {
  "kernelspec": {
   "display_name": "Python 3 (ipykernel)",
   "language": "python",
   "name": "python3"
  },
  "language_info": {
   "codemirror_mode": {
    "name": "ipython",
    "version": 3
   },
   "file_extension": ".py",
   "mimetype": "text/x-python",
   "name": "python",
   "nbconvert_exporter": "python",
   "pygments_lexer": "ipython3",
   "version": "3.10.1"
  }
 },
 "nbformat": 4,
 "nbformat_minor": 5
}
